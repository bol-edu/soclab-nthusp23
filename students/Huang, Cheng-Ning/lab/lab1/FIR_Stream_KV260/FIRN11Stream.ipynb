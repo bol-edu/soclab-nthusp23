{
 "cells": [
  {
   "cell_type": "code",
   "execution_count": 2,
   "id": "b26add35",
   "metadata": {},
   "outputs": [
    {
     "name": "stdout",
     "output_type": "stream",
     "text": [
      "Entry: /usr/local/share/pynq-venv/lib/python3.8/site-packages/ipykernel_launcher.py\n",
      "System argument(s): 3\n",
      "Start of \"/usr/local/share/pynq-venv/lib/python3.8/site-packages/ipykernel_launcher.py\"\n",
      "Kernel execution time: 0.002017498016357422 s\n"
     ]
    },
    {
     "data": {
      "image/png": "[encoded data removed]",
      "text/plain": [
       "<Figure size 432x288 with 1 Axes>"
      ]
     },
     "metadata": {
      "needs_background": "light"
     },
     "output_type": "display_data"
    },
    {
     "name": "stdout",
     "output_type": "stream",
     "text": [
      "============================\n",
      "Exit process\n"
     ]
    }
   ],
   "source": [
    "\n",
    "# coding: utf-8\n",
    "\n",
    "# In[3]:\n",
    "\n",
    "\n",
    "from __future__ import print_function\n",
    "\n",
    "import sys, os\n",
    "import numpy as np\n",
    "from time import time\n",
    "import matplotlib.pyplot as plt \n",
    "\n",
    "sys.path.append('/home/xilinx')\n",
    "os.environ['XILINX_XRT'] = '/usr'\n",
    "from pynq import Overlay\n",
    "from pynq import allocate\n",
    "\n",
    "if __name__ == \"__main__\":\n",
    "    print(\"Entry:\", sys.argv[0])\n",
    "    print(\"System argument(s):\", len(sys.argv))\n",
    "\n",
    "    print(\"Start of \\\"\" + sys.argv[0] + \"\\\"\")\n",
    "\n",
    "    ol = Overlay(\"/home/xilinx/jupyter_notebooks/FIRN11Stream.bit\")\n",
    "    ipFIRN11 = ol.fir_n11_strm_0\n",
    "    ipDMAIn = ol.axi_dma_in_0\n",
    "    ipDMAOut = ol.axi_dma_out_1\n",
    "\n",
    "    fiSamples = open(\"samples_triangular_wave.txt\", \"r+\")\n",
    "    numSamples = 0\n",
    "    line = fiSamples.readline()\n",
    "    while line:\n",
    "        numSamples = numSamples + 1\n",
    "        line = fiSamples.readline()\n",
    "\n",
    "    inBuffer0 = allocate(shape=(numSamples,), dtype=np.int32)\n",
    "    outBuffer0 = allocate(shape=(numSamples,), dtype=np.int32)\n",
    "    fiSamples.seek(0)\n",
    "    for i in range(numSamples):\n",
    "        line = fiSamples.readline()\n",
    "        inBuffer0[i] = int(line)\n",
    "    fiSamples.close()\n",
    "\n",
    "    numTaps = 11\n",
    "    n32Taps = [0, -10, -9, 23, 56, 63, 56, 23, -9, -10, 0]\n",
    "    #n32Taps = [1, 0, 0, 0, 0, 0, 0, 0, 0, 0, 1]\n",
    "    n32DCGain = 0\n",
    "    timeKernelStart = time()\n",
    "    for i in range(numTaps):\n",
    "        n32DCGain = n32DCGain + n32Taps[i]\n",
    "        ipFIRN11.write(0x40 + i * 4, n32Taps[i])\n",
    "    if n32DCGain < 0:\n",
    "        n32DCGain = 0 - n32DCGain\n",
    "    ipFIRN11.write(0x10, len(inBuffer0) * 4)\n",
    "    ipFIRN11.write(0x00, 0x01)\n",
    "    ipDMAIn.sendchannel.transfer(inBuffer0)\n",
    "    ipDMAOut.recvchannel.transfer(outBuffer0)\n",
    "    ipDMAIn.sendchannel.wait()\n",
    "    ipDMAOut.recvchannel.wait()\n",
    "    timeKernelEnd = time()\n",
    "    print(\"Kernel execution time: \" + str(timeKernelEnd - timeKernelStart) + \" s\")\n",
    "      \n",
    "    plt.title(\"FIR Response\")\n",
    "    plt.xlabel(\"Sample Point\") \n",
    "    plt.ylabel(\"Magnitude\")\n",
    "    xSeq = range(len(inBuffer0))\n",
    "    if n32DCGain == 0:\n",
    "        plt.plot(xSeq, inBuffer0, 'b.', xSeq, outBuffer0, 'r.')\n",
    "    else:\n",
    "        plt.plot(xSeq, inBuffer0, 'b.', xSeq, outBuffer0 / n32DCGain, 'r.')\n",
    "    plt.grid(True)\n",
    "    plt.show() # In Jupyter, press Tab + Shift keys to show plot then redo run\n",
    "\n",
    "    print(\"============================\")\n",
    "    print(\"Exit process\")\n",
    "\n"
   ]
  },
  {
   "cell_type": "code",
   "execution_count": null,
   "id": "bdf8430a",
   "metadata": {},
   "outputs": [],
   "source": []
  }
 ],
 "metadata": {
  "kernelspec": {
   "display_name": "Python 3",
   "language": "python",
   "name": "python3"
  },
  "language_info": {
   "codemirror_mode": {
    "name": "ipython",
    "version": 3
   },
   "file_extension": ".py",
   "mimetype": "text/x-python",
   "name": "python",
   "nbconvert_exporter": "python",
   "pygments_lexer": "ipython3",
   "version": "3.8.2"
  }
 },
 "nbformat": 4,
 "nbformat_minor": 5
}
